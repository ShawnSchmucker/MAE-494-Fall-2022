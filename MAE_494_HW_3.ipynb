{
  "nbformat": 4,
  "nbformat_minor": 0,
  "metadata": {
    "colab": {
      "provenance": [],
      "collapsed_sections": [],
      "authorship_tag": "ABX9TyMaCkNGoLHP13x+FYP3CVwE",
      "include_colab_link": true
    },
    "kernelspec": {
      "name": "python3",
      "display_name": "Python 3"
    },
    "language_info": {
      "name": "python"
    }
  },
  "cells": [
    {
      "cell_type": "markdown",
      "metadata": {
        "id": "view-in-github",
        "colab_type": "text"
      },
      "source": [
        "<a href=\"https://colab.research.google.com/github/ShawnSchmucker/MAE-494-Fall-2022/blob/main/MAE_494_HW_3.ipynb\" target=\"_parent\"><img src=\"https://colab.research.google.com/assets/colab-badge.svg\" alt=\"Open In Colab\"/></a>"
      ]
    },
    {
      "cell_type": "markdown",
      "source": [
        "**Problem 1**"
      ],
      "metadata": {
        "id": "v0RhJ1zqpGVE"
      }
    },
    {
      "cell_type": "code",
      "execution_count": null,
      "metadata": {
        "id": "NvS1HakriM5n"
      },
      "outputs": [],
      "source": [
        "import torch\n",
        "import numpy as np\n",
        "import matplotlib.pyplot as plt\n",
        "\n",
        "p = torch.tensor([28.1, 34.4, 36.7, 36.9, 36.8, 36.7, 36.5, 35.4, 32.9, 27.7, 17.5])\n",
        "x = torch.tensor([0.0, 0.1, 0.2, 0.3, 0.4, 0.5, 0.6, 0.7, 0.8, 0.9, 1.0])\n",
        "p1 = 10 ** (8.07131 - 1730.63 / (20 + 233.426))\n",
        "p2 = 10 ** (7.43155 - 1554.679 / (20 + 240.337))\n",
        "\n",
        "def pressure(A1, A2):\n",
        "  return x * torch.exp(A1 * (A2 * (1 - x) / (A1 * x + A2 * (1 - x))) ** 2) * p1 + (1 - x) * torch.exp(A2 * (A1 * x / (A1 * x + A2 * (1 - x))) ** 2) * p2\n",
        "\n",
        "def least_square(A1, A2):\n",
        "  sq_diff = (pressure(A1, A2) - p) ** 2\n",
        "  sq_diff = sq_diff.sum()\n",
        "  return sq_diff\n",
        "\n",
        "def phi(pressure, grad, a):\n",
        "  return pressure - a * t * grad.T.matmul(grad)\n",
        "\n",
        "def line_search():\n",
        "  a = 1\n",
        "  counter = 0\n",
        "\n",
        "t = 0.5"
      ]
    }
  ]
}