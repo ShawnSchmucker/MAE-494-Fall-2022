{
  "nbformat": 4,
  "nbformat_minor": 0,
  "metadata": {
    "colab": {
      "provenance": [],
      "collapsed_sections": [],
      "authorship_tag": "ABX9TyPHBcXKhKctyt/tT52rhTtH",
      "include_colab_link": true
    },
    "kernelspec": {
      "name": "python3",
      "display_name": "Python 3"
    },
    "language_info": {
      "name": "python"
    }
  },
  "cells": [
    {
      "cell_type": "markdown",
      "metadata": {
        "id": "view-in-github",
        "colab_type": "text"
      },
      "source": [
        "<a href=\"https://colab.research.google.com/github/ShawnSchmucker/MAE-494-Fall-2022/blob/main/MAE_494_HW_3.ipynb\" target=\"_parent\"><img src=\"https://colab.research.google.com/assets/colab-badge.svg\" alt=\"Open In Colab\"/></a>"
      ]
    },
    {
      "cell_type": "markdown",
      "source": [
        "**Problem 1**"
      ],
      "metadata": {
        "id": "v0RhJ1zqpGVE"
      }
    },
    {
      "cell_type": "markdown",
      "source": [
        "(1) Minimize $\\sum_{i=1}^{11} (\\hat{p} - p_i)^2$ with respect to $A_{12}$ and $A_{21}$, where $\\hat{p}$ is the predicted pressure based on the model due to $A_{12}$ and $A_{21}$, and $p_i$ is the $i$th data point.\n",
        "\n",
        "(2)"
      ],
      "metadata": {
        "id": "sge6oPQpngin"
      }
    },
    {
      "cell_type": "code",
      "execution_count": 80,
      "metadata": {
        "id": "NvS1HakriM5n",
        "colab": {
          "base_uri": "https://localhost:8080/"
        },
        "outputId": "c2fe605a-7a77-49e5-d742-26a53e037f59"
      },
      "outputs": [
        {
          "output_type": "stream",
          "name": "stdout",
          "text": [
            "A: tensor([1.9418, 1.7030], requires_grad=True)\n",
            "grad: tensor([-1.7279,  1.4599])\n",
            "squared error:  0.6945314\n"
          ]
        }
      ],
      "source": [
        "import math\n",
        "import torch\n",
        "from torch.autograd import Variable\n",
        "import matplotlib.pyplot as plt\n",
        "\n",
        "p = torch.tensor([28.1, 34.4, 36.7, 36.9, 36.8, 36.7, 36.5, 35.4, 32.9, 27.7, 17.5], requires_grad=False)\n",
        "x = torch.tensor([0.0, 0.1, 0.2, 0.3, 0.4, 0.5, 0.6, 0.7, 0.8, 0.9, 1.0], requires_grad=False)\n",
        "p1 = 10 ** (8.07131 - 1730.63 / (20 + 233.426))\n",
        "p2 = 10 ** (7.43155 - 1554.679 / (20 + 240.337))\n",
        "\n",
        "A = Variable(torch.tensor([1.0, 1.0]), requires_grad=True)\n",
        "\n",
        "t = 0.5\n",
        "epsilon = 1e-6\n",
        "a = 0.0001\n",
        "\n",
        "pressure = x * torch.exp(A[0] * (A[1] * (1 - x) / (A[0] * x + A[1] * (1 - x))) ** 2) * p1 + (1 - x) * torch.exp(A[1] * (A[0] * x / (A[0] * x + A[1] * (1 - x))) ** 2) * p2\n",
        "P = (pressure - p) ** 2\n",
        "P = P.sum()\n",
        "P.backward()\n",
        "\n",
        "with torch.no_grad():\n",
        "  norm = math.sqrt((A.grad ** 2).sum())\n",
        "\n",
        "counter = 0\n",
        "\n",
        "grad = 0\n",
        "\n",
        "while norm > epsilon and counter < 200:\n",
        "  with torch.no_grad():\n",
        "    A -= a * A.grad\n",
        "    A.grad.zero_()\n",
        "  pressure = x * torch.exp(A[0] * (A[1] * (1 - x) / (A[0] * x + A[1] * (1 - x))) ** 2) * p1 + (1 - x) * torch.exp(A[1] * (A[0] * x / (A[0] * x + A[1] * (1 - x))) ** 2) * p2\n",
        "  P = (pressure - p) ** 2\n",
        "  P = P.sum()\n",
        "  P.backward()\n",
        "  grad = A.grad\n",
        "  with torch.no_grad():\n",
        "    norm = math.sqrt((A.grad ** 2).sum())\n",
        "  counter += 1\n",
        "\n",
        "print('A:', A)\n",
        "print('grad:', grad)\n",
        "print('squared error: ', P.data.numpy())"
      ]
    },
    {
      "cell_type": "markdown",
      "source": [
        "(3)"
      ],
      "metadata": {
        "id": "tNKRN169FImr"
      }
    },
    {
      "cell_type": "code",
      "source": [
        "pressure = pressure.detach().numpy()\n",
        "\n",
        "plt.plot(x, p, label='Data')\n",
        "plt.plot(x, pressure, label='Model')\n",
        "plt.legend()\n",
        "plt.xlabel('x1')\n",
        "plt.ylabel('pressure')\n",
        "plt.show()"
      ],
      "metadata": {
        "colab": {
          "base_uri": "https://localhost:8080/",
          "height": 280
        },
        "id": "5oQdcOFUFJZC",
        "outputId": "86a5a15c-65e7-444f-f7e7-39a3a191de0b"
      },
      "execution_count": null,
      "outputs": [
        {
          "output_type": "display_data",
          "data": {
            "text/plain": [
              "<Figure size 432x288 with 1 Axes>"
            ],
            "image/png": "[encoded data removed]"
          },
          "metadata": {
            "needs_background": "light"
          }
        }
      ]
    },
    {
      "cell_type": "markdown",
      "source": [
        "The data fits the model well.\n",
        "\n",
        "**Problem 2**"
      ],
      "metadata": {
        "id": "jxTI0MK5MC5B"
      }
    },
    {
      "cell_type": "code",
      "source": [
        "# %pip install bayesian-optimization\n",
        "from bayes_opt import BayesianOptimization\n",
        "from sklearn.externals._packaging.version import Infinity\n",
        "\n",
        "def f(x1, x2):\n",
        "  return -((4 - 2.1 * x1 ** 2 + x1 ** 4 / 3) * x1 ** 2 + x1 * x2 + (-4 + 4 * x2 ** 2) * x2 ** 2)\n",
        "  # negate output so that 'maximize' finds minimum of original f\n",
        "\n",
        "bounds = {'x1': (-3, 3), 'x2': (-2, 2)}\n",
        "\n",
        "optimizer = BayesianOptimization(f=f, pbounds=bounds, random_state=1)\n",
        "\n",
        "optimizer.maximize(init_points=20, n_iter=80)\n",
        "\n",
        "optimal_point = -Infinity\n",
        "res = optimizer.res\n",
        "index = 0\n",
        "\n",
        "for i in range(100):\n",
        "  if res[i]['target'] > optimal_point:\n",
        "    optimal_point = res[i]['target']\n",
        "    index = i\n",
        "\n",
        "print(res[index]['params'])\n",
        "print('f(x1, x2):', -res[index]['target'])"
      ],
      "metadata": {
        "colab": {
          "base_uri": "https://localhost:8080/"
        },
        "id": "vlu_b3EjXCkI",
        "outputId": "66d4b3ea-3099-4308-dbc4-46bb9d6f746d"
      },
      "execution_count": null,
      "outputs": [
        {
          "output_type": "stream",
          "name": "stdout",
          "text": [
            "|   iter    |  target   |    x1     |    x2     |\n",
            "-------------------------------------------------\n",
            "| \u001b[0m 1       \u001b[0m | \u001b[0m 0.265   \u001b[0m | \u001b[0m-0.4979  \u001b[0m | \u001b[0m 0.8813  \u001b[0m |\n",
            "| \u001b[0m 2       \u001b[0m | \u001b[0m-110.1   \u001b[0m | \u001b[0m-2.999   \u001b[0m | \u001b[0m-0.7907  \u001b[0m |\n",
            "| \u001b[0m 3       \u001b[0m | \u001b[0m-26.91   \u001b[0m | \u001b[0m-2.119   \u001b[0m | \u001b[0m-1.631   \u001b[0m |\n",
            "| \u001b[0m 4       \u001b[0m | \u001b[0m-2.856   \u001b[0m | \u001b[0m-1.882   \u001b[0m | \u001b[0m-0.6178  \u001b[0m |\n",
            "| \u001b[0m 5       \u001b[0m | \u001b[0m-1.054   \u001b[0m | \u001b[0m-0.6194  \u001b[0m | \u001b[0m 0.1553  \u001b[0m |\n",
            "| \u001b[95m 6       \u001b[0m | \u001b[95m 0.5211  \u001b[0m | \u001b[95m-0.4848  \u001b[0m | \u001b[95m 0.7409  \u001b[0m |\n",
            "| \u001b[0m 7       \u001b[0m | \u001b[0m-11.28   \u001b[0m | \u001b[0m-1.773   \u001b[0m | \u001b[0m 1.512   \u001b[0m |\n",
            "| \u001b[0m 8       \u001b[0m | \u001b[0m-66.76   \u001b[0m | \u001b[0m-2.836   \u001b[0m | \u001b[0m 0.6819  \u001b[0m |\n",
            "| \u001b[0m 9       \u001b[0m | \u001b[0m-0.5377  \u001b[0m | \u001b[0m-0.4962  \u001b[0m | \u001b[0m 0.2348  \u001b[0m |\n",
            "| \u001b[0m 10      \u001b[0m | \u001b[0m-12.02   \u001b[0m | \u001b[0m-2.158   \u001b[0m | \u001b[0m-1.208   \u001b[0m |\n",
            "| \u001b[0m 11      \u001b[0m | \u001b[0m-40.85   \u001b[0m | \u001b[0m 1.804   \u001b[0m | \u001b[0m 1.873   \u001b[0m |\n",
            "| \u001b[0m 12      \u001b[0m | \u001b[0m-0.5433  \u001b[0m | \u001b[0m-1.119   \u001b[0m | \u001b[0m 0.7693  \u001b[0m |\n",
            "| \u001b[0m 13      \u001b[0m | \u001b[0m-28.42   \u001b[0m | \u001b[0m 2.258   \u001b[0m | \u001b[0m 1.578   \u001b[0m |\n",
            "| \u001b[0m 14      \u001b[0m | \u001b[0m-60.72   \u001b[0m | \u001b[0m-2.49    \u001b[0m | \u001b[0m-1.844   \u001b[0m |\n",
            "| \u001b[0m 15      \u001b[0m | \u001b[0m-12.29   \u001b[0m | \u001b[0m-1.981   \u001b[0m | \u001b[0m 1.513   \u001b[0m |\n",
            "| \u001b[0m 16      \u001b[0m | \u001b[0m-18.1    \u001b[0m | \u001b[0m-2.41    \u001b[0m | \u001b[0m-0.3156  \u001b[0m |\n",
            "| \u001b[0m 17      \u001b[0m | \u001b[0m-54.18   \u001b[0m | \u001b[0m 2.747   \u001b[0m | \u001b[0m 0.1327  \u001b[0m |\n",
            "| \u001b[0m 18      \u001b[0m | \u001b[0m-0.547   \u001b[0m | \u001b[0m 1.151   \u001b[0m | \u001b[0m-0.7379  \u001b[0m |\n",
            "| \u001b[0m 19      \u001b[0m | \u001b[0m-9.541   \u001b[0m | \u001b[0m 1.119   \u001b[0m | \u001b[0m 1.339   \u001b[0m |\n",
            "| \u001b[0m 20      \u001b[0m | \u001b[0m-78.3    \u001b[0m | \u001b[0m-2.89    \u001b[0m | \u001b[0m 1.001   \u001b[0m |\n",
            "| \u001b[0m 21      \u001b[0m | \u001b[0m-1.536   \u001b[0m | \u001b[0m 0.733   \u001b[0m | \u001b[0m 0.2572  \u001b[0m |\n",
            "| \u001b[0m 22      \u001b[0m | \u001b[0m-1.357   \u001b[0m | \u001b[0m-0.01925 \u001b[0m | \u001b[0m-1.124   \u001b[0m |\n",
            "| \u001b[0m 23      \u001b[0m | \u001b[0m-48.24   \u001b[0m | \u001b[0m 0.9351  \u001b[0m | \u001b[0m-2.0     \u001b[0m |\n",
            "| \u001b[0m 24      \u001b[0m | \u001b[0m-8.62    \u001b[0m | \u001b[0m-1.043   \u001b[0m | \u001b[0m-1.312   \u001b[0m |\n",
            "| \u001b[0m 25      \u001b[0m | \u001b[0m-48.07   \u001b[0m | \u001b[0m 0.03331 \u001b[0m | \u001b[0m 2.0     \u001b[0m |\n",
            "| \u001b[0m 26      \u001b[0m | \u001b[0m 0.385   \u001b[0m | \u001b[0m 0.2798  \u001b[0m | \u001b[0m-0.4146  \u001b[0m |\n",
            "| \u001b[0m 27      \u001b[0m | \u001b[0m-150.9   \u001b[0m | \u001b[0m 3.0     \u001b[0m | \u001b[0m-2.0     \u001b[0m |\n",
            "| \u001b[0m 28      \u001b[0m | \u001b[0m-2.144   \u001b[0m | \u001b[0m 1.576   \u001b[0m | \u001b[0m 0.4622  \u001b[0m |\n",
            "| \u001b[0m 29      \u001b[0m | \u001b[0m-50.14   \u001b[0m | \u001b[0m-0.6113  \u001b[0m | \u001b[0m-1.997   \u001b[0m |\n",
            "| \u001b[0m 30      \u001b[0m | \u001b[0m-1.453   \u001b[0m | \u001b[0m-1.807   \u001b[0m | \u001b[0m 0.2871  \u001b[0m |\n",
            "| \u001b[0m 31      \u001b[0m | \u001b[0m-162.9   \u001b[0m | \u001b[0m 3.0     \u001b[0m | \u001b[0m 2.0     \u001b[0m |\n",
            "| \u001b[0m 32      \u001b[0m | \u001b[0m-4.96    \u001b[0m | \u001b[0m 1.94    \u001b[0m | \u001b[0m 0.9944  \u001b[0m |\n",
            "| \u001b[0m 33      \u001b[0m | \u001b[0m-0.5854  \u001b[0m | \u001b[0m-0.5972  \u001b[0m | \u001b[0m-0.6599  \u001b[0m |\n",
            "| \u001b[0m 34      \u001b[0m | \u001b[0m-0.1894  \u001b[0m | \u001b[0m 0.329   \u001b[0m | \u001b[0m 0.9196  \u001b[0m |\n",
            "| \u001b[0m 35      \u001b[0m | \u001b[0m-46.65   \u001b[0m | \u001b[0m-1.965   \u001b[0m | \u001b[0m 1.993   \u001b[0m |\n",
            "| \u001b[0m 36      \u001b[0m | \u001b[0m-1.321   \u001b[0m | \u001b[0m 1.62    \u001b[0m | \u001b[0m-0.2787  \u001b[0m |\n",
            "| \u001b[0m 37      \u001b[0m | \u001b[0m-1.923   \u001b[0m | \u001b[0m 1.08    \u001b[0m | \u001b[0m-0.2171  \u001b[0m |\n",
            "| \u001b[0m 38      \u001b[0m | \u001b[0m-0.06811 \u001b[0m | \u001b[0m-1.813   \u001b[0m | \u001b[0m 0.9068  \u001b[0m |\n",
            "| \u001b[0m 39      \u001b[0m | \u001b[0m-0.7647  \u001b[0m | \u001b[0m 0.5838  \u001b[0m | \u001b[0m-1.027   \u001b[0m |\n",
            "| \u001b[0m 40      \u001b[0m | \u001b[0m-5.117   \u001b[0m | \u001b[0m-1.593   \u001b[0m | \u001b[0m-1.119   \u001b[0m |\n",
            "| \u001b[0m 41      \u001b[0m | \u001b[0m-2.121   \u001b[0m | \u001b[0m 1.032   \u001b[0m | \u001b[0m 0.7748  \u001b[0m |\n",
            "| \u001b[0m 42      \u001b[0m | \u001b[0m-2.459   \u001b[0m | \u001b[0m-1.269   \u001b[0m | \u001b[0m-0.2722  \u001b[0m |\n",
            "| \u001b[0m 43      \u001b[0m | \u001b[0m 0.3465  \u001b[0m | \u001b[0m 0.139   \u001b[0m | \u001b[0m 0.3709  \u001b[0m |\n",
            "| \u001b[0m 44      \u001b[0m | \u001b[0m 0.1709  \u001b[0m | \u001b[0m-0.2047  \u001b[0m | \u001b[0m-0.3377  \u001b[0m |\n",
            "| \u001b[95m 45      \u001b[0m | \u001b[95m 0.9976  \u001b[0m | \u001b[95m 0.04116 \u001b[0m | \u001b[95m-0.763   \u001b[0m |\n",
            "| \u001b[0m 46      \u001b[0m | \u001b[0m-1.606   \u001b[0m | \u001b[0m-1.295   \u001b[0m | \u001b[0m 0.3159  \u001b[0m |\n",
            "| \u001b[0m 47      \u001b[0m | \u001b[0m 0.1506  \u001b[0m | \u001b[0m 1.675   \u001b[0m | \u001b[0m-0.8637  \u001b[0m |\n",
            "| \u001b[0m 48      \u001b[0m | \u001b[0m-3.157   \u001b[0m | \u001b[0m 1.313   \u001b[0m | \u001b[0m-1.19    \u001b[0m |\n",
            "| \u001b[0m 49      \u001b[0m | \u001b[0m-5.388   \u001b[0m | \u001b[0m-0.9789  \u001b[0m | \u001b[0m 1.291   \u001b[0m |\n",
            "| \u001b[0m 50      \u001b[0m | \u001b[0m-3.08    \u001b[0m | \u001b[0m-1.917   \u001b[0m | \u001b[0m-0.1521  \u001b[0m |\n",
            "| \u001b[0m 51      \u001b[0m | \u001b[0m-4.656   \u001b[0m | \u001b[0m 1.544   \u001b[0m | \u001b[0m 1.087   \u001b[0m |\n",
            "| \u001b[0m 52      \u001b[0m | \u001b[0m-2.326   \u001b[0m | \u001b[0m-1.098   \u001b[0m | \u001b[0m-0.8053  \u001b[0m |\n",
            "| \u001b[0m 53      \u001b[0m | \u001b[0m 0.8556  \u001b[0m | \u001b[0m-0.06312 \u001b[0m | \u001b[0m 0.8445  \u001b[0m |\n",
            "| \u001b[0m 54      \u001b[0m | \u001b[0m-0.8545  \u001b[0m | \u001b[0m-1.481   \u001b[0m | \u001b[0m 1.021   \u001b[0m |\n",
            "| \u001b[0m 55      \u001b[0m | \u001b[0m-2.234   \u001b[0m | \u001b[0m-0.4977  \u001b[0m | \u001b[0m-1.084   \u001b[0m |\n",
            "| \u001b[0m 56      \u001b[0m | \u001b[0m-2.487   \u001b[0m | \u001b[0m 1.251   \u001b[0m | \u001b[0m 0.2145  \u001b[0m |\n",
            "| \u001b[0m 57      \u001b[0m | \u001b[0m 0.004242\u001b[0m | \u001b[0m 0.6482  \u001b[0m | \u001b[0m-0.6147  \u001b[0m |\n",
            "| \u001b[0m 58      \u001b[0m | \u001b[0m-0.224   \u001b[0m | \u001b[0m 0.4972  \u001b[0m | \u001b[0m 0.6252  \u001b[0m |\n",
            "| \u001b[0m 59      \u001b[0m | \u001b[0m-0.2065  \u001b[0m | \u001b[0m 1.493   \u001b[0m | \u001b[0m-0.6592  \u001b[0m |\n",
            "| \u001b[0m 60      \u001b[0m | \u001b[0m-1.694   \u001b[0m | \u001b[0m 1.991   \u001b[0m | \u001b[0m-0.5456  \u001b[0m |\n",
            "| \u001b[0m 61      \u001b[0m | \u001b[0m-3.15    \u001b[0m | \u001b[0m 1.932   \u001b[0m | \u001b[0m 0.09166 \u001b[0m |\n",
            "| \u001b[0m 62      \u001b[0m | \u001b[0m-0.4107  \u001b[0m | \u001b[0m 0.3332  \u001b[0m | \u001b[0m-0.01921 \u001b[0m |\n",
            "| \u001b[0m 63      \u001b[0m | \u001b[0m-0.1148  \u001b[0m | \u001b[0m-1.573   \u001b[0m | \u001b[0m 0.6404  \u001b[0m |\n",
            "| \u001b[0m 64      \u001b[0m | \u001b[0m-1.727   \u001b[0m | \u001b[0m-0.8086  \u001b[0m | \u001b[0m-0.2989  \u001b[0m |\n",
            "| \u001b[0m 65      \u001b[0m | \u001b[0m-0.0251  \u001b[0m | \u001b[0m-0.09019 \u001b[0m | \u001b[0m 0.03292 \u001b[0m |\n",
            "| \u001b[0m 66      \u001b[0m | \u001b[0m 0.6809  \u001b[0m | \u001b[0m 0.3415  \u001b[0m | \u001b[0m-0.8394  \u001b[0m |\n",
            "| \u001b[0m 67      \u001b[0m | \u001b[0m 0.8685  \u001b[0m | \u001b[0m-0.1245  \u001b[0m | \u001b[0m 0.5596  \u001b[0m |\n",
            "| \u001b[0m 68      \u001b[0m | \u001b[0m-2.571   \u001b[0m | \u001b[0m 0.6958  \u001b[0m | \u001b[0m 1.041   \u001b[0m |\n",
            "| \u001b[0m 69      \u001b[0m | \u001b[0m 0.2625  \u001b[0m | \u001b[0m-0.2793  \u001b[0m | \u001b[0m-0.8508  \u001b[0m |\n",
            "| \u001b[0m 70      \u001b[0m | \u001b[0m-0.5406  \u001b[0m | \u001b[0m-0.7949  \u001b[0m | \u001b[0m 0.5312  \u001b[0m |\n",
            "| \u001b[0m 71      \u001b[0m | \u001b[0m-1.068   \u001b[0m | \u001b[0m 0.6663  \u001b[0m | \u001b[0m-0.2165  \u001b[0m |\n",
            "| \u001b[0m 72      \u001b[0m | \u001b[0m-1.517   \u001b[0m | \u001b[0m 0.999   \u001b[0m | \u001b[0m-1.037   \u001b[0m |\n",
            "| \u001b[0m 73      \u001b[0m | \u001b[0m-0.6263  \u001b[0m | \u001b[0m-0.83    \u001b[0m | \u001b[0m 0.9295  \u001b[0m |\n",
            "| \u001b[0m 74      \u001b[0m | \u001b[0m 0.8135  \u001b[0m | \u001b[0m 0.1458  \u001b[0m | \u001b[0m 0.6947  \u001b[0m |\n",
            "| \u001b[0m 75      \u001b[0m | \u001b[0m-0.5037  \u001b[0m | \u001b[0m 1.397   \u001b[0m | \u001b[0m-0.9262  \u001b[0m |\n",
            "| \u001b[0m 76      \u001b[0m | \u001b[0m-0.2506  \u001b[0m | \u001b[0m 1.767   \u001b[0m | \u001b[0m-0.5783  \u001b[0m |\n",
            "| \u001b[0m 77      \u001b[0m | \u001b[0m-1.697   \u001b[0m | \u001b[0m-0.2012  \u001b[0m | \u001b[0m 1.154   \u001b[0m |\n",
            "| \u001b[0m 78      \u001b[0m | \u001b[0m-1.186   \u001b[0m | \u001b[0m-1.953   \u001b[0m | \u001b[0m 0.577   \u001b[0m |\n",
            "| \u001b[0m 79      \u001b[0m | \u001b[0m-2.185   \u001b[0m | \u001b[0m 1.606   \u001b[0m | \u001b[0m 0.09739 \u001b[0m |\n",
            "| \u001b[0m 80      \u001b[0m | \u001b[0m 0.3008  \u001b[0m | \u001b[0m 0.05032 \u001b[0m | \u001b[0m-0.284   \u001b[0m |\n",
            "| \u001b[0m 81      \u001b[0m | \u001b[0m 0.7833  \u001b[0m | \u001b[0m-0.07559 \u001b[0m | \u001b[0m-0.5522  \u001b[0m |\n",
            "| \u001b[0m 82      \u001b[0m | \u001b[0m-2.199   \u001b[0m | \u001b[0m-1.026   \u001b[0m | \u001b[0m 0.05767 \u001b[0m |\n",
            "| \u001b[0m 83      \u001b[0m | \u001b[0m-0.02877 \u001b[0m | \u001b[0m 0.2199  \u001b[0m | \u001b[0m-1.008   \u001b[0m |\n",
            "| \u001b[0m 84      \u001b[0m | \u001b[0m 0.8567  \u001b[0m | \u001b[0m-0.268   \u001b[0m | \u001b[0m 0.8018  \u001b[0m |\n",
            "| \u001b[0m 85      \u001b[0m | \u001b[0m-2.115   \u001b[0m | \u001b[0m 1.907   \u001b[0m | \u001b[0m-0.2442  \u001b[0m |\n",
            "| \u001b[0m 86      \u001b[0m | \u001b[0m-0.1929  \u001b[0m | \u001b[0m 0.7613  \u001b[0m | \u001b[0m-0.8324  \u001b[0m |\n",
            "| \u001b[0m 87      \u001b[0m | \u001b[0m-1.837   \u001b[0m | \u001b[0m-0.7798  \u001b[0m | \u001b[0m-0.9037  \u001b[0m |\n",
            "| \u001b[0m 88      \u001b[0m | \u001b[0m 0.9225  \u001b[0m | \u001b[0m 0.1678  \u001b[0m | \u001b[0m-0.6076  \u001b[0m |\n",
            "| \u001b[0m 89      \u001b[0m | \u001b[0m 0.3347  \u001b[0m | \u001b[0m-0.1136  \u001b[0m | \u001b[0m 0.3115  \u001b[0m |\n",
            "| \u001b[0m 90      \u001b[0m | \u001b[0m-0.6518  \u001b[0m | \u001b[0m-0.4258  \u001b[0m | \u001b[0m-0.1213  \u001b[0m |\n",
            "| \u001b[0m 91      \u001b[0m | \u001b[0m 0.5107  \u001b[0m | \u001b[0m-0.3526  \u001b[0m | \u001b[0m 0.5216  \u001b[0m |\n",
            "| \u001b[0m 92      \u001b[0m | \u001b[0m-1.631   \u001b[0m | \u001b[0m-1.821   \u001b[0m | \u001b[0m 1.126   \u001b[0m |\n",
            "| \u001b[0m 93      \u001b[0m | \u001b[0m 0.3393  \u001b[0m | \u001b[0m-0.3154  \u001b[0m | \u001b[0m-0.5857  \u001b[0m |\n",
            "| \u001b[0m 94      \u001b[0m | \u001b[0m-0.264   \u001b[0m | \u001b[0m 0.4001  \u001b[0m | \u001b[0m 0.3696  \u001b[0m |\n",
            "| \u001b[0m 95      \u001b[0m | \u001b[0m 0.6285  \u001b[0m | \u001b[0m 0.3979  \u001b[0m | \u001b[0m-0.6316  \u001b[0m |\n",
            "| \u001b[0m 96      \u001b[0m | \u001b[0m-0.1635  \u001b[0m | \u001b[0m 0.08038 \u001b[0m | \u001b[0m 1.007   \u001b[0m |\n",
            "| \u001b[0m 97      \u001b[0m | \u001b[0m-0.02898 \u001b[0m | \u001b[0m-1.775   \u001b[0m | \u001b[0m 0.6589  \u001b[0m |\n",
            "| \u001b[0m 98      \u001b[0m | \u001b[0m 0.4663  \u001b[0m | \u001b[0m-0.008924\u001b[0m | \u001b[0m-0.9286  \u001b[0m |\n",
            "| \u001b[95m 99      \u001b[0m | \u001b[95m 1.016   \u001b[0m | \u001b[95m-0.03233 \u001b[0m | \u001b[95m 0.6895  \u001b[0m |\n",
            "| \u001b[0m 100     \u001b[0m | \u001b[0m 0.9672  \u001b[0m | \u001b[0m 0.1986  \u001b[0m | \u001b[0m-0.7663  \u001b[0m |\n",
            "=================================================\n",
            "{'x1': -0.03233274863645001, 'x2': 0.6895204168224858}\n",
            "f(x1, x2): -1.0157016706824835\n"
          ]
        }
      ]
    }
  ]
}