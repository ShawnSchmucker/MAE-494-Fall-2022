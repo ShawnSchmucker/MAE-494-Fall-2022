{
  "nbformat": 4,
  "nbformat_minor": 0,
  "metadata": {
    "colab": {
      "provenance": [],
      "collapsed_sections": [],
      "authorship_tag": "ABX9TyMyM2kBeZ441YTrvmgnO4c/",
      "include_colab_link": true
    },
    "kernelspec": {
      "name": "python3",
      "display_name": "Python 3"
    },
    "language_info": {
      "name": "python"
    }
  },
  "cells": [
    {
      "cell_type": "markdown",
      "metadata": {
        "id": "view-in-github",
        "colab_type": "text"
      },
      "source": [
        "<a href=\"https://colab.research.google.com/github/ShawnSchmucker/MAE-494-Fall-2022/blob/main/MAE_494_HW_1.ipynb\" target=\"_parent\"><img src=\"https://colab.research.google.com/assets/colab-badge.svg\" alt=\"Open In Colab\"/></a>"
      ]
    },
    {
      "cell_type": "code",
      "execution_count": null,
      "metadata": {
        "id": "m0zmQ-oFHmEC"
      },
      "outputs": [],
      "source": []
    },
    {
      "cell_type": "markdown",
      "source": [
        "**Problem 2**\n",
        "\n",
        "*(a)* $g(x) = \\nabla f(x) = b + (A + A^T) x$\n",
        "\n",
        "$\\quad H(x) = \\nabla g(x) = A + A^T$\n",
        "\n",
        "*(b)* $\\text{First order: } f(x) \\approx f(0) + g(0)^T (x - 0)$\n",
        "\n",
        "$\\qquad = 0 + (b + 0)^T x$\n",
        "\n",
        "$\\qquad = b^T x$\n",
        "\n",
        "$\\quad \\text{Second order: } f(x) \\approx f(0) + g(0)^T (x - 0) + {1 \\over 2} (x - 0)^T H(0) (x - 0)$\n",
        "\n",
        "$\\qquad = 0 + (b + 0)^T x + {1 \\over 2} x^T (A + A^T) x$\n",
        "\n",
        "$\\qquad = b^T x + {1 \\over 2} x^T (A + A^T) x$\n",
        "\n",
        "$\\quad \\text{The second order approximation is exact. The first order approximation is not.}$\n",
        "\n",
        "*(c)* $\\text{If all eigenvalues of } A \\text{ are greater than 0, then } A \\text{ is positive definite.}$\n",
        "\n",
        "*(d)* $\\text{If the determinant of } A \\text{ is not equal to 0, then } A \\text{ has full rank.}$\n",
        "\n",
        "*(e)* $\\text{In order for } Ax = b \\text{ to have a solution for } x \\text{, } b \\text{ must be orthogonal to } y\\text{.}$"
      ],
      "metadata": {
        "id": "cH4bwoH9R6c5"
      }
    },
    {
      "cell_type": "markdown",
      "source": [
        "**Problem 3**\n",
        "\n",
        "$\\text{minimize } P(x) = x^Tc$\n",
        "\n",
        "$\\text{s.t. } D_j(x) = x^Ta_j \\geq b_j \\text{ for } j = 1,2,...M$\n",
        "\n",
        "$\\text{where } x \\in \\mathbb{N}^N \\text{, } x_i > 0 \\text{ for } i = 1,2,...N \\text{ is the amount of each food type purchased, }$\n",
        "\n",
        "$\\text{and } D_j \\text{ is the function corresponding to } a_j \\in \\mathbb{R}^N \\text{, which is a column in } A,$\n",
        "\n",
        "$\\text{where } A = \\begin{bmatrix}\n",
        "a_{1,1} & a_{1,2} & \\cdots & a_{1,M} \\\\\n",
        "a_{2,1} & a_{2,2} & \\cdots & a_{2,M} \\\\\n",
        "\\vdots & \\vdots & \\ddots & \\vdots \\\\\n",
        "a_{N,1} & a_{N,2} & \\cdots & a_{N,M}\n",
        "\\end{bmatrix}$"
      ],
      "metadata": {
        "id": "CFxHdTZMHn_T"
      }
    }
  ]
}