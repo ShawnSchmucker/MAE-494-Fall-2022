{
  "nbformat": 4,
  "nbformat_minor": 0,
  "metadata": {
    "colab": {
      "name": "MAE 494 HW 1.ipynb",
      "provenance": [],
      "collapsed_sections": [],
      "authorship_tag": "ABX9TyN/DEk/ZGUO2e8RFedwWBAU",
      "include_colab_link": true
    },
    "kernelspec": {
      "name": "python3",
      "display_name": "Python 3"
    },
    "language_info": {
      "name": "python"
    }
  },
  "cells": [
    {
      "cell_type": "markdown",
      "metadata": {
        "id": "view-in-github",
        "colab_type": "text"
      },
      "source": [
        "<a href=\"https://colab.research.google.com/github/ShawnSchmucker/MAE-494-Fall-2022/blob/main/MAE_494_HW_1.ipynb\" target=\"_parent\"><img src=\"https://colab.research.google.com/assets/colab-badge.svg\" alt=\"Open In Colab\"/></a>"
      ]
    },
    {
      "cell_type": "code",
      "execution_count": null,
      "metadata": {
        "id": "m0zmQ-oFHmEC"
      },
      "outputs": [],
      "source": []
    },
    {
      "cell_type": "markdown",
      "source": [
        "**Problem 3**\n",
        "\n",
        "$\\text{minimize } P(x) = x^Tc$\n",
        "\n",
        "$\\text{s.t. } D(x) = x^TA \\text{, } D_i(x) \\geq b_i \\text{, for } i = 1,2,...N$\n",
        "\n",
        "$\\text{where } x \\in \\mathbb{N}^N \\text{, } x_i > 0 \\text{ for } i = 1,2,...N \\text{ is the amount of each food type purchased, }$\n",
        "\n",
        "$\\text{and } A = \\begin{bmatrix}\n",
        "a_{1,1} & a_{1,2} & \\cdots & a_{1,M} \\\\\n",
        "a_{2,1} & a_{2,2} & \\cdots & a_{2,M} \\\\\n",
        "\\vdots & \\vdots & \\ddots & \\vdots \\\\\n",
        "a_{N,1} & a_{N,2} & \\cdots & a_{N,M}\n",
        "\\end{bmatrix}$"
      ],
      "metadata": {
        "id": "CFxHdTZMHn_T"
      }
    }
  ]
}