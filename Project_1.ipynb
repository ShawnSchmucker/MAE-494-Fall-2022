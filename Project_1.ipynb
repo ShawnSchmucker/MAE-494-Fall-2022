{
  "nbformat": 4,
  "nbformat_minor": 0,
  "metadata": {
    "colab": {
      "provenance": [],
      "collapsed_sections": [],
      "authorship_tag": "ABX9TyPy0Sgsv0/cI1r4s3b/R+KZ",
      "include_colab_link": true
    },
    "kernelspec": {
      "name": "python3",
      "display_name": "Python 3"
    },
    "language_info": {
      "name": "python"
    }
  },
  "cells": [
    {
      "cell_type": "markdown",
      "metadata": {
        "id": "view-in-github",
        "colab_type": "text"
      },
      "source": [
        "<a href=\"https://colab.research.google.com/github/ShawnSchmucker/MAE-494-Fall-2022/blob/main/Project_1.ipynb\" target=\"_parent\"><img src=\"https://colab.research.google.com/assets/colab-badge.svg\" alt=\"Open In Colab\"/></a>"
      ]
    },
    {
      "cell_type": "markdown",
      "source": [
        "**Problem Formulation**\n",
        "\n",
        "The objective function is the state $s(t) = [d(t), v(t), \\theta(t), \\omega(t)]^T$, where $d(t)$ is the distance of the rocket from the ground, $v(t)$ is its velocity, $\\theta(t)$ is its angle from the vertical, and $\\omega(t)$ is its angular velocity.\n",
        "\n",
        "The control inputs are the rocket's vertical acceleration $a(t)$, and its angular acceleration $\\alpha(t)$.\n",
        "\n",
        "The dynamics are:\n",
        "\n",
        "$\\quad d(t+1) = d(t) + v(t) \\Delta t$,\n",
        "\n",
        "$\\quad v(t+1) = v(t) + a(t) \\Delta t$,\n",
        "\n",
        "$\\quad \\theta(t+1) = \\theta(t) + \\omega(t) \\Delta t$,\n",
        "\n",
        "$\\quad \\omega(t+1) = \\omega(t) + \\alpha(t) \\Delta t$,\n",
        "\n",
        "where $\\Delta t$ is the time step.\n",
        "\n",
        "The controller is $c(t) = [a(t), \\alpha(t)]^T = f_\\theta(s(t))$, where $f_\\theta$ is a neural network with optimized parameters $\\theta$.\n",
        "\n",
        "The loss is 0 for all time $t = 1,...,T-1$, where $T$ is the final time step. At $t = T,$ the loss $l(s(T), c(T)) = ||s(T)||^2 = d(T)^2 + v(T)^2 + \\theta(T)^2 + \\omega(T)^2$.\n",
        "\n",
        "The optimization problem is:\n",
        "\n",
        "$\\quad \\min \\limits_{\\theta} \\quad ||s(T)||^2$\n",
        "\n",
        "$\\qquad \\qquad d(t+1) = d(t) + v(t) \\Delta t$,\n",
        "\n",
        "$\\qquad \\qquad v(t+1) = v(t) + a(t) \\Delta t$,\n",
        "\n",
        "$\\qquad \\qquad \\theta(t+1) = \\theta(t) + \\omega(t) \\Delta t$,\n",
        "\n",
        "$\\qquad \\qquad \\omega(t+1) = \\omega(t) + \\alpha(t) \\Delta t$,\n",
        "\n",
        "$\\qquad \\qquad c(t) = [a(t), \\alpha(t)]^T = f_\\theta(s(t)), \\, \\forall t = 1,...,T-1$.\n",
        "\n",
        "This formulation assumes..."
      ],
      "metadata": {
        "id": "faoBKAI5Jjln"
      }
    },
    {
      "cell_type": "code",
      "execution_count": null,
      "metadata": {
        "id": "1UE_2L1qWMpE"
      },
      "outputs": [],
      "source": [
        "import numpy as np\n",
        "import torch as t\n",
        "import torch.nn as nn\n",
        "from torch import optim\n",
        "from torch.nn import utils\n",
        "import matplotlib.pyplot as plt\n",
        "\n",
        "DT = 0.1\n",
        "G = 0.12\n",
        "THRUST = 0.18\n",
        "ROTATE = 20\n",
        "\n",
        "class Dynamics(nn.Module):\n",
        "\n",
        "  def __init__(self):\n",
        "    super(Dynamics, self).__init__()\n",
        "  \n",
        "  @staticmethod\n",
        "  def forward(state, action):\n",
        "\n",
        "    dx_gravity = t.tensor([0., G * DT, 0., 0.])\n",
        "\n",
        "    dx_thrust = t.tensor([0., THRUST * DT * action[0], 0., ROTATE * DT * action[1]])\n",
        "\n",
        "    state = state + dx_gravity + dx_thrust\n",
        "    \n",
        "    step_mat = t.tensor([1., DT, 0., 0.],\n",
        "                        [0., 1., 0., 0.],\n",
        "                        [0., 0., 1., DT],\n",
        "                        [0., 0., 0., 1.])\n",
        "    \n",
        "    state = t.matmul(step_mat, state)\n",
        "\n",
        "    return state\n",
        "\n",
        "class Controller(nn.Module):\n",
        "\n",
        "  def __init__(self, dim_input, dim_hidden, dim_output):\n",
        "\n",
        "    super(Controller self).__init__()\n",
        "    self.network = nn.Sequential(\n",
        "        nn.Linear(dim_input, dim_hidden),\n",
        "        nn.Tanh(),\n",
        "        nn.Linear(dim_hidden, dim_output),\n",
        "        nn.Sigmoid()\n",
        "    )\n",
        "  \n",
        "  def forward(self, state):\n",
        "    action = self.network(state)\n",
        "    return action"
      ]
    }
  ]
}