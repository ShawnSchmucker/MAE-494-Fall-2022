{
  "nbformat": 4,
  "nbformat_minor": 0,
  "metadata": {
    "colab": {
      "provenance": [],
      "collapsed_sections": [],
      "authorship_tag": "ABX9TyP2AQYtXUM05Rr9Yiq7gnZr",
      "include_colab_link": true
    },
    "kernelspec": {
      "name": "python3",
      "display_name": "Python 3"
    },
    "language_info": {
      "name": "python"
    }
  },
  "cells": [
    {
      "cell_type": "markdown",
      "metadata": {
        "id": "view-in-github",
        "colab_type": "text"
      },
      "source": [
        "<a href=\"https://colab.research.google.com/github/ShawnSchmucker/MAE-494-Fall-2022/blob/main/MAE_494_HW_2.ipynb\" target=\"_parent\"><img src=\"https://colab.research.google.com/assets/colab-badge.svg\" alt=\"Open In Colab\"/></a>"
      ]
    },
    {
      "cell_type": "markdown",
      "source": [
        "**Problem 1**\n",
        "\n",
        "$f(x_1, x_2) = 2 x_1^2 - 4 x_1 x_2 + 1.5 x_2^2 + x_2$\n",
        "\n",
        "$\\text{Gradient of } f \\text{: } g(x_1, x_2) = \\begin{bmatrix}\n",
        "4 x_1 - 4 x_2 \\\\\n",
        "-4 x_1 + 3 x_2 + 1\n",
        "\\end{bmatrix}$\n",
        "\n",
        "$\\text{Hessian of } f \\text{: } H(x_1, x_2) = \\begin{bmatrix}\n",
        "4 & -4 \\\\\n",
        "-4 & 3\n",
        "\\end{bmatrix} \\to \\text{constant curvature}$\n",
        "\n",
        "$\\text{Find the eigenvalues of } H \\text{:}$\n",
        "\n",
        "$\\begin{vmatrix}\n",
        "4 - \\lambda & -4 \\\\\n",
        "-4 & 3 - \\lambda\n",
        "\\end{vmatrix} = (4 - \\lambda) (3 - \\lambda) - (-4) (-4) = \\lambda^2 - 7 \\lambda - 4 = 0$\n",
        "\n",
        "$\\lambda = 3.5 \\pm 0.5 \\sqrt{65} \\approx -0.531, 7.531 \\to \\text{Hessian is indefinite}$\n",
        "\n",
        "$\\text{The Hessian is constant and indefinite, so the stationary point is a saddle point.}$\n",
        "\n",
        "$\\quad$\n",
        "\n",
        "$f \\text{ may be approximated by:}$\n",
        "\n",
        "$f(x_1, x_2) = f(1,1) + g(1,1)^T (x - 1) + 0.5 (x - 1)^T H(1,1) (x - 1)$\n",
        "\n",
        "$\\quad = 0.5 + \\begin{bmatrix} 0 \\\\ 0 \\end{bmatrix}^T \\begin{bmatrix} x_1 - 1 \\\\ x_2 - 1 \\end{bmatrix} + 0.5 \\begin{bmatrix} x_1 - 1 \\\\ x_2 - 1 \\end{bmatrix}^T \\begin{bmatrix} 4 & -4 \\\\ -4 & 3 \\end{bmatrix} \\begin{bmatrix} x_1 - 1 \\\\ x_2 - 1 \\end{bmatrix}$\n",
        "\n",
        "$\\text{Let } \\partial x_1 = x_1 - 1 \\text{, and } \\partial x_2 = x_2 - 1$\n",
        "\n",
        "$f(x_1, x_2) - 0.5 = 0.5 \\begin{bmatrix} \\partial x_1 \\\\ \\partial x_2 \\end{bmatrix}^T \\begin{bmatrix} 4 & -4 \\\\ -4 & 3 \\end{bmatrix} \\begin{bmatrix} \\partial x_1 \\\\ \\partial x_2 \\end{bmatrix}$\n",
        "\n",
        "$\\quad = 2 \\partial x_1^2 - 4 \\partial x_1 \\partial x_2 + 1.5 \\partial x_2^2 < 0$\n",
        "\n",
        "$\\text{Let } u = \\frac{\\partial x_1}{\\partial x_2}$\n",
        "\n",
        "$\\to 2 u^2 - 4 u  + 1.5 < 0$\n",
        "\n",
        "$\\text{Solve } 2 u^2 - 4 u  + 1.5 = 0$\n",
        "\n",
        "$\\to u = 0.5, 1.5$\n",
        "\n",
        "$(u - 0.5) (u - 1.5) = 0$\n",
        "\n",
        "$\\text{Undo the second substitution:}$\n",
        "\n",
        "$\\to (\\partial x_1 - 0.5 \\partial x_2) (\\partial x_1 - 1.5 \\partial x_2) < 0$\n",
        "\n",
        "$\\text{The downslopes have two constraints:}$\n",
        "\n",
        "$\\quad 1.5 \\partial x_2 < \\partial x_1 < 0.5 \\partial x_2$\n",
        "\n",
        "$\\quad 0.5 \\partial x_2 < \\partial x_1 < 1.5 \\partial x_2$\n",
        "\n",
        "$\\text{Undo the first substitution:}$\n",
        "\n",
        "$1.5 (x_2 - 1) < x_1 - 1 < 0.5 (x_2 - 1), \\quad 0.5 (x_2 - 1) < x_1 - 1 < 1.5 (x_2 - 1)$\n",
        "\n",
        "$\\text{The function slopes down from the point } (1, 1) \\text{ in the directions constrained by:}$\n",
        "\n",
        "$\\quad 1.5 x_2 - 0.5 < x_1 < 0.5 x_2 + 0.5 \\text{, and }$\n",
        "\n",
        "$\\quad 0.5 x_2 + 0.5 < x_1 < 1.5 x_2 - 0.5$"
      ],
      "metadata": {
        "id": "mNgwfkjcYZGf"
      }
    },
    {
      "cell_type": "markdown",
      "source": [
        "**Problem 2**\n",
        "\n",
        "*(a)* $\\text{The distance from the plane to the point is } D(x, y, z) = \\sqrt{(-1 - x)^2 + (0 - y)^2 + (1 - z)^2},$\n",
        "\n",
        "$\\quad \\text{where } x = x_1, \\, y = x_2, \\, z = x_3$\n",
        "\n",
        "$\\text{From the constraint } x + 2y + 3z = 1 \\text{:}$\n",
        "\n",
        "$\\quad x = 1 - 2y - 3z$\n",
        "\n",
        "$\\text{Substituting for } x \\text{: } D(y, z) = \\sqrt{(-1 - 1 + 2y + 3z)^2 + (0 - y)^2 + (1 - z)^2} = \\sqrt{5 + 5y^2 - 8y + 12yz - 14z + 10z^2}$\n",
        "\n",
        "$\\nabla D(y, z) = \\begin{bmatrix}\n",
        "0.5 (5 + 5y^2 - 8y + 12yz - 14z + 10z^2)^{-\\frac{1}{2}} (10y - 8 + 12z) \\\\\n",
        "0.5 (5 + 5y^2 - 8y + 12yz - 14z + 10z^2)^{-\\frac{1}{2}} (12y - 14 + 20z)\n",
        "\\end{bmatrix} = \\begin{bmatrix} 0 \\\\ 0 \\end{bmatrix}$\n",
        "\n",
        "$\\text{From the first row: } 10y - 8 + 12z = 0 \\to y = 0.8 - 1.2z$\n",
        "\n",
        "$\\text{Substituting into the second row: } 12(0.8 - 1.2z) - 14 + 20z = -4.4 + 5.6z = 0 \\to z = \\frac{4.4}{5.6} \\approx 0.786$\n",
        "\n",
        "$\\text{Plugging into the first row: } y = 0.8 - 1.2(0.786) = -0.143$\n",
        "\n",
        "$\\text{Plugging into the constraint} \\text{: } x = 1 - 2(-0.143) - 3(0.786) = -1.07$\n",
        "\n",
        "$(x, y, z) = (-1.07, -0.143, 0.786)$\n",
        "\n",
        "$\\text{The problem is convex. The distance from a point to a plane is always positive,}$\n",
        "$\\text{and will always increase as one moves along the plane away from the point of nearest approach.}$\n",
        "\n",
        "*(b)*\n",
        "\n",
        "Gradient descent (inexact line search):"
      ],
      "metadata": {
        "id": "WSbWHSlpbUvF"
      }
    },
    {
      "cell_type": "code",
      "source": [
        "import math\n",
        "import matplotlib.pyplot as plt\n",
        "\n",
        "def f(y, z):\n",
        "  return math.sqrt(5 + 5*y**2 - 8*y + 12*y*z - 14*z + 10*z**2)\n",
        "\n",
        "def g(y, z):\n",
        "  return {'dy': 0.5 * (10*y - 8 + 12*z) / f(y, z), 'dz': 0.5 * (12*y - 14 + 20*z) / f(y, z)}\n",
        "\n",
        "def phi(y, z, a, t):\n",
        "  return f(y, z) - a * t * (g(y, z)['dy']**2 + g(y, z)['dz']**2)\n",
        "\n",
        "def ILS(y, z, t):\n",
        "  a = 1\n",
        "  counter = 0\n",
        "  while f(y - a*g(y, z)['dy'], z - a*g(y, z)['dz']) > phi(y, z, a, t) and counter < 100:\n",
        "    a /= 2\n",
        "    counter += 1\n",
        "  return {'y': y - a*g(y, z)['dy'], 'z': z - a*g(y, z)['dz']}\n",
        "\n",
        "def GD(y, z, EPSILON, t):\n",
        "  counter = 0\n",
        "  while math.fabs(g(y, z)['dy']) > EPSILON and math.fabs(g(y, z)['dz']) > EPSILON and counter < 100:\n",
        "    yz = ILS(y, z, t)\n",
        "    y = yz['y']\n",
        "    z = yz['z']\n",
        "    counter += 1\n",
        "    k.append(counter)\n",
        "    fk.append(f(y, z))\n",
        "  x = 1 - 2*y - 3*z\n",
        "  return {'x': x, 'y': y, 'z': z}\n",
        "\n",
        "EPSILON = 1e-6\n",
        "\n",
        "t = 0.5\n",
        "\n",
        "y0 = 1\n",
        "z0 = 1\n",
        "\n",
        "k = []\n",
        "\n",
        "fk = []\n",
        "\n",
        "error = []\n",
        "\n",
        "xyz = GD(y0, z0, EPSILON, t)\n",
        "fs = f(xyz['y'], xyz['z'])\n",
        "\n",
        "print('(x,y,z): (', xyz['x'], ',', xyz['y'], ',', xyz['z'], ')')\n",
        "print('f(x,y,z): ', fs)\n",
        "\n",
        "for fi in fk:\n",
        "  error.append(math.fabs(fi - fs))\n",
        "\n",
        "plt.plot(k, error)\n",
        "plt.yscale('log')\n",
        "plt.show()"
      ],
      "metadata": {
        "colab": {
          "base_uri": "https://localhost:8080/",
          "height": 301
        },
        "id": "Dtt1ljm1BmLZ",
        "outputId": "b78109fd-919a-4788-a230-c246f3cb48ea"
      },
      "execution_count": 6,
      "outputs": [
        {
          "output_type": "stream",
          "name": "stdout",
          "text": [
            "(x,y,z): ( -1.0714265080750127 , -0.14285303847043176 , 0.7857108616719587 )\n",
            "f(x,y,z):  0.2672612419738394\n"
          ]
        },
        {
          "output_type": "display_data",
          "data": {
            "text/plain": [
              "<Figure size 432x288 with 1 Axes>"
            ],
            "image/png": "[encoded data removed]"
          },
          "metadata": {
            "needs_background": "light"
          }
        }
      ]
    }
  ]
}