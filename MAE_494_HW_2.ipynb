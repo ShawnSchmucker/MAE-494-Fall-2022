{
  "nbformat": 4,
  "nbformat_minor": 0,
  "metadata": {
    "colab": {
      "provenance": [],
      "collapsed_sections": [],
      "authorship_tag": "ABX9TyPVI49Iqn90tKEB5pqEfnSu",
      "include_colab_link": true
    },
    "kernelspec": {
      "name": "python3",
      "display_name": "Python 3"
    },
    "language_info": {
      "name": "python"
    }
  },
  "cells": [
    {
      "cell_type": "markdown",
      "metadata": {
        "id": "view-in-github",
        "colab_type": "text"
      },
      "source": [
        "<a href=\"https://colab.research.google.com/github/ShawnSchmucker/MAE-494-Fall-2022/blob/main/MAE_494_HW_2.ipynb\" target=\"_parent\"><img src=\"https://colab.research.google.com/assets/colab-badge.svg\" alt=\"Open In Colab\"/></a>"
      ]
    },
    {
      "cell_type": "markdown",
      "source": [
        "**Problem 1**\n",
        "\n",
        "$f(x_1, x_2) = 2 x_1^2 - 4 x_1 x_2 + 1.5 x_2^2 + x_2$\n",
        "\n",
        "$\\text{Gradient of } f \\text{: } g(x_1, x_2) = \\begin{bmatrix}\n",
        "4 x_1 - 4 x_2 \\\\\n",
        "-4 x_1 + 3 x_2 + 1\n",
        "\\end{bmatrix}$\n",
        "\n",
        "$\\text{Hessian of } f \\text{: } H(x_1, x_2) = \\begin{bmatrix}\n",
        "4 & -4 \\\\\n",
        "-4 & 3\n",
        "\\end{bmatrix} \\to \\text{constant curvature}$\n",
        "\n",
        "$\\text{Find the eigenvalues of } H \\text{:}$\n",
        "\n",
        "$\\begin{vmatrix}\n",
        "4 - \\lambda & -4 \\\\\n",
        "-4 & 3 - \\lambda\n",
        "\\end{vmatrix} = (4 - \\lambda) (3 - \\lambda) - (-4) (-4) = \\lambda^2 - 7 \\lambda - 4 = 0$\n",
        "\n",
        "$\\lambda = 3.5 \\pm 0.5 \\sqrt{65} \\approx -0.531, 7.531 \\to \\text{Hessian is indefinite}$\n",
        "\n",
        "$\\text{The Hessian is constant and indefinite, so the stationary point is a saddle point.}$\n",
        "\n",
        "$\\quad$\n",
        "\n",
        "$f \\text{ may be approximated by:}$\n",
        "\n",
        "$f(x_1, x_2) = f(1,1) + g(1,1)^T (x - 1) + 0.5 (x - 1)^T H(1,1) (x - 1)$\n",
        "\n",
        "$\\quad = 0.5 + \\begin{bmatrix} 0 \\\\ 0 \\end{bmatrix}^T \\begin{bmatrix} x_1 - 1 \\\\ x_2 - 1 \\end{bmatrix} + 0.5 \\begin{bmatrix} x_1 - 1 \\\\ x_2 - 1 \\end{bmatrix}^T \\begin{bmatrix} 4 & -4 \\\\ -4 & 3 \\end{bmatrix} \\begin{bmatrix} x_1 - 1 \\\\ x_2 - 1 \\end{bmatrix}$\n",
        "\n",
        "$\\text{Let } \\partial x_1 = x_1 - 1 \\text{, and } \\partial x_2 = x_2 - 1$\n",
        "\n",
        "$f(x_1, x_2) - 0.5 = 0.5 \\begin{bmatrix} \\partial x_1 \\\\ \\partial x_2 \\end{bmatrix}^T \\begin{bmatrix} 4 & -4 \\\\ -4 & 3 \\end{bmatrix} \\begin{bmatrix} \\partial x_1 \\\\ \\partial x_2 \\end{bmatrix}$\n",
        "\n",
        "$\\quad = 2 \\partial x_1^2 - 4 \\partial x_1 \\partial x_2 + 1.5 \\partial x_2^2 < 0$\n",
        "\n",
        "$\\text{Let } u = \\frac{\\partial x_1}{\\partial x_2}$\n",
        "\n",
        "$\\to 2 u^2 - 4 u  + 1.5 < 0$\n",
        "\n",
        "$\\text{Solve } 2 u^2 - 4 u  + 1.5 = 0$\n",
        "\n",
        "$\\to u = 0.5, 1.5$\n",
        "\n",
        "$(u - 0.5) (u - 1.5) = 0$\n",
        "\n",
        "$\\text{Undo the second substitution:}$\n",
        "\n",
        "$\\to (\\partial x_1 - 0.5 \\partial x_2) (\\partial x_1 - 1.5 \\partial x_2) < 0$\n",
        "\n",
        "$\\text{The downslopes have two constraints:}$\n",
        "\n",
        "$\\quad 1.5 \\partial x_2 < \\partial x_1 < 0.5 \\partial x_2$\n",
        "\n",
        "$\\quad 0.5 \\partial x_2 < \\partial x_1 < 1.5 \\partial x_2$\n",
        "\n",
        "$\\text{Undo the first substitution:}$\n",
        "\n",
        "$1.5 (x_2 - 1) < x_1 - 1 < 0.5 (x_2 - 1), \\quad 0.5 (x_2 - 1) < x_1 - 1 < 1.5 (x_2 - 1)$\n",
        "\n",
        "$\\text{The function slopes down from the point } (1, 1) \\text{ in the directions constrained by:}$\n",
        "\n",
        "$\\quad 1.5 x_2 - 0.5 < x_1 < 0.5 x_2 + 0.5 \\text{, and }$\n",
        "\n",
        "$\\quad 0.5 x_2 + 0.5 < x_1 < 1.5 x_2 - 0.5$"
      ],
      "metadata": {
        "id": "mNgwfkjcYZGf"
      }
    },
    {
      "cell_type": "markdown",
      "source": [
        "**Problem 2**\n",
        "\n",
        "*(a)* $\\text{The distance from the plane to the point is } D(x, y, z) = \\sqrt{(-1 - x)^2 + (0 - y)^2 + (1 - z)^2},$\n",
        "\n",
        "$\\quad \\text{where } x = x_1, \\, y = x_2, \\, z = x_3$\n",
        "\n",
        "$\\text{From the constraint } x + 2y + 3z = 1 \\text{:}$\n",
        "\n",
        "$\\quad x = 1 - 2y - 3z$\n",
        "\n",
        "$\\text{Substituting for } x \\text{: } D(y, z) = \\sqrt{(-1 - 1 + 2y + 3z)^2 + (0 - y)^2 + (1 - z)^2} = \\sqrt{5 + 5y^2 - 8y + 12yz - 14z + 10z^2}$\n",
        "\n",
        "$\\nabla D(y, z) = \\begin{bmatrix}\n",
        "0.5 (5 + 5y^2 - 8y + 12yz - 14z + 10z^2)^{-\\frac{1}{2}} (10y - 8 + 12z) \\\\\n",
        "0.5 (5 + 5y^2 - 8y + 12yz - 14z + 10z^2)^{-\\frac{1}{2}} (12y - 14 + 20z)\n",
        "\\end{bmatrix} = \\begin{bmatrix} 0 \\\\ 0 \\end{bmatrix}$\n",
        "\n",
        "$\\text{From the first row: } 10y - 8 + 12z = 0 \\to y = 0.8 - 1.2z$\n",
        "\n",
        "$\\text{Substituting into the second row: } 12(0.8 - 1.2z) - 14 + 20z = -4.4 + 5.6z = 0 \\to z = \\frac{4.4}{5.6} \\approx 0.786$\n",
        "\n",
        "$\\text{Plugging into the first row: } y = 0.8 - 1.2(0.786) = -0.143$\n",
        "\n",
        "$\\text{Plugging into the constraint} \\text{: } x = 1 - 2(-0.143) - 3(0.786) = -1.07$\n",
        "\n",
        "$(x, y, z) = (-1.07, -0.143, 0.786)$\n",
        "\n",
        "$\\text{The problem is convex. The distance from a point to a plane is always positive,}$\n",
        "$\\text{and will always increase as one moves along the plane away from the point of nearest approach.}$"
      ],
      "metadata": {
        "id": "WSbWHSlpbUvF"
      }
    }
  ]
}