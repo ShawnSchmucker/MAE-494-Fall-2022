{
  "nbformat": 4,
  "nbformat_minor": 0,
  "metadata": {
    "colab": {
      "provenance": [],
      "collapsed_sections": [],
      "authorship_tag": "ABX9TyPN5i9Q3NEc8cS+LPoJmY3d",
      "include_colab_link": true
    },
    "kernelspec": {
      "name": "python3",
      "display_name": "Python 3"
    },
    "language_info": {
      "name": "python"
    }
  },
  "cells": [
    {
      "cell_type": "markdown",
      "metadata": {
        "id": "view-in-github",
        "colab_type": "text"
      },
      "source": [
        "<a href=\"https://colab.research.google.com/github/ShawnSchmucker/MAE-494-Fall-2022/blob/main/MAE_494_HW_2.ipynb\" target=\"_parent\"><img src=\"https://colab.research.google.com/assets/colab-badge.svg\" alt=\"Open In Colab\"/></a>"
      ]
    },
    {
      "cell_type": "markdown",
      "source": [
        "**Problem 1**\n",
        "\n",
        "$f(x_1, x_2) = 2 x_1^2 - 4 x_1 x_2 + 1.5 x_2^2 + x_2$\n",
        "\n",
        "$\\text{Gradient of } f \\text{: } g(x_1, x_2) = \\begin{bmatrix}\n",
        "4 x_1 - 4 x_2 \\\\\n",
        "-4 x_1 + 3 x_2 + 1\n",
        "\\end{bmatrix}$\n",
        "\n",
        "$\\text{Hessian of } f \\text{: } H(x_1, x_2) = \\begin{bmatrix}\n",
        "4 & -4 \\\\\n",
        "-4 & 3\n",
        "\\end{bmatrix} \\to \\text{constant curvature}$\n",
        "\n",
        "$\\text{Find the eigenvalues of } H \\text{:}$\n",
        "\n",
        "$\\begin{vmatrix}\n",
        "4 - \\lambda & -4 \\\\\n",
        "-4 & 3 - \\lambda\n",
        "\\end{vmatrix} = (4 - \\lambda) (3 - \\lambda) - (-4) (-4) = \\lambda^2 - 7 \\lambda - 4 = 0$\n",
        "\n",
        "$\\lambda = 3.5 \\pm 0.5 \\sqrt{65} \\approx -0.531, 7.531 \\to \\text{Hessian is indefinite}$\n",
        "\n",
        "$\\text{The Hessian is constant and indefinite, so the stationary point is a saddle point.}$\n",
        "\n",
        "$\\quad$\n",
        "\n",
        "$f \\text{ may be approximated by:}$\n",
        "\n",
        "$f(x_1, x_2) = f(1,1) + g(1,1)^T (x - 1) + 0.5 (x - 1)^T H(1,1) (x - 1)$\n",
        "\n",
        "$\\quad = 0.5 + \\begin{bmatrix} 0 \\\\ 0 \\end{bmatrix}^T \\begin{bmatrix} x_1 - 1 \\\\ x_2 - 1 \\end{bmatrix} + 0.5 \\begin{bmatrix} x_1 - 1 \\\\ x_2 - 1 \\end{bmatrix}^T \\begin{bmatrix} 4 & -4 \\\\ -4 & 3 \\end{bmatrix} \\begin{bmatrix} x_1 - 1 \\\\ x_2 - 1 \\end{bmatrix}$\n",
        "\n",
        "$\\text{Let } \\partial x_1 = x_1 - 1 \\text{, and } \\partial x_2 = x_2 - 1$\n",
        "\n",
        "$f(x_1, x_2) - 0.5 = 0.5 \\begin{bmatrix} \\partial x_1 \\\\ \\partial x_2 \\end{bmatrix}^T \\begin{bmatrix} 4 & -4 \\\\ -4 & 3 \\end{bmatrix} \\begin{bmatrix} \\partial x_1 \\\\ \\partial x_2 \\end{bmatrix}$\n",
        "\n",
        "$\\quad = 2 \\partial x_1^2 - 4 \\partial x_1 \\partial x_2 + 1.5 \\partial x_2^2 < 0$\n",
        "\n",
        "$\\text{Let } u = \\frac{\\partial x_1}{\\partial x_2}$\n",
        "\n",
        "$\\to 2 u^2 - 4 u  + 1.5 < 0$\n",
        "\n",
        "$\\text{Solve } 2 u^2 - 4 u  + 1.5 = 0$\n",
        "\n",
        "$\\to u = 0.5, 1.5$\n",
        "\n",
        "$(u - 0.5) (u - 1.5) = 0$\n",
        "\n",
        "$\\text{Undo the second substitution:}$\n",
        "\n",
        "$\\to (\\partial x_1 - 0.5 \\partial x_2) (\\partial x_1 - 1.5 \\partial x_2) < 0$\n",
        "\n",
        "$\\text{The downslopes have two constraints:}$\n",
        "\n",
        "$\\quad 1.5 \\partial x_2 < \\partial x_1 < 0.5 \\partial x_2$\n",
        "\n",
        "$\\quad 0.5 \\partial x_2 < \\partial x_1 < 1.5 \\partial x_2$\n",
        "\n",
        "$\\text{Undo the first substitution:}$\n",
        "\n",
        "$1.5 (x_2 - 1) < x_1 - 1 < 0.5 (x_2 - 1), \\quad 0.5 (x_2 - 1) < x_1 - 1 < 1.5 (x_2 - 1)$\n",
        "\n",
        "$\\text{The function slopes down from the point } (1, 1) \\text{ in the directions constrained by:}$\n",
        "\n",
        "$\\quad 1.5 x_2 - 0.5 < x_1 < 0.5 x_2 + 0.5 \\text{, and }$\n",
        "\n",
        "$\\quad 0.5 x_2 + 0.5 < x_1 < 1.5 x_2 - 0.5$"
      ],
      "metadata": {
        "id": "mNgwfkjcYZGf"
      }
    },
    {
      "cell_type": "markdown",
      "source": [
        "**Problem 2**\n",
        "\n",
        "*(a)* $\\text{The distance from the plane to the point is } D(x, y, z) = \\sqrt{(-1 - x)^2 + (0 - y)^2 + (1 - z)^2},$\n",
        "\n",
        "$\\quad \\text{where } x = x_1, \\, y = x_2, \\, z = x_3$\n",
        "\n",
        "$\\text{From the constraint } x + 2y + 3z = 1 \\text{:}$\n",
        "\n",
        "$\\quad x = 1 - 2y - 3z$\n",
        "\n",
        "$\\text{Substituting for } x \\text{: } D(y, z) = \\sqrt{(-1 - 1 + 2y + 3z)^2 + (0 - y)^2 + (1 - z)^2} = \\sqrt{5 + 5y^2 - 8y + 12yz - 14z + 10z^2}$\n",
        "\n",
        "$\\nabla D(y, z) = \\begin{bmatrix}\n",
        "0.5 (5 + 5y^2 - 8y + 12yz - 14z + 10z^2)^{-\\frac{1}{2}} (10y - 8 + 12z) \\\\\n",
        "0.5 (5 + 5y^2 - 8y + 12yz - 14z + 10z^2)^{-\\frac{1}{2}} (12y - 14 + 20z)\n",
        "\\end{bmatrix} = \\begin{bmatrix} 0 \\\\ 0 \\end{bmatrix}$\n",
        "\n",
        "$\\text{From the first row: } 10y - 8 + 12z = 0 \\to y = 0.8 - 1.2z$\n",
        "\n",
        "$\\text{Substituting into the second row: } 12(0.8 - 1.2z) - 14 + 20z = -4.4 + 5.6z = 0 \\to z = \\frac{4.4}{5.6} \\approx 0.786$\n",
        "\n",
        "$\\text{Plugging into the first row: } y = 0.8 - 1.2(0.786) = -0.143$\n",
        "\n",
        "$\\text{Plugging into the constraint} \\text{: } x = 1 - 2(-0.143) - 3(0.786) = -1.07$\n",
        "\n",
        "$(x, y, z) = (-1.07, -0.143, 0.786)$\n",
        "\n",
        "$D(x, y, z) = 0.267$\n",
        "\n",
        "The problem is convex. The distance from a point to a plane is always positive, and will always increase as one moves along the plane away from the point of nearest approach.\n",
        "\n",
        "*(b)*\n",
        "\n",
        "Gradient descent (inexact line search):"
      ],
      "metadata": {
        "id": "WSbWHSlpbUvF"
      }
    },
    {
      "cell_type": "code",
      "source": [
        "import math\n",
        "import matplotlib.pyplot as plt\n",
        "\n",
        "def f(y, z):\n",
        "  return math.sqrt(5 + 5*y**2 - 8*y + 12*y*z - 14*z + 10*z**2)\n",
        "\n",
        "def g(y, z):\n",
        "  return {'dy': 0.5 * (10*y - 8 + 12*z) / f(y, z), 'dz': 0.5 * (12*y - 14 + 20*z) / f(y, z)}\n",
        "\n",
        "def phi(y, z, a, t):\n",
        "  return f(y, z) - a * t * (g(y, z)['dy']**2 + g(y, z)['dz']**2)\n",
        "\n",
        "def ILS(y, z, t):\n",
        "  a = 1\n",
        "  counter = 0\n",
        "  while f(y - a*g(y, z)['dy'], z - a*g(y, z)['dz']) > phi(y, z, a, t) and counter < 100:\n",
        "    a /= 2\n",
        "    counter += 1\n",
        "  return {'y': y - a*g(y, z)['dy'], 'z': z - a*g(y, z)['dz']}\n",
        "\n",
        "def GD(y, z, EPSILON, t):\n",
        "  counter = 0\n",
        "  while math.fabs(g(y, z)['dy']) > EPSILON and math.fabs(g(y, z)['dz']) > EPSILON and counter < 100:\n",
        "    yz = ILS(y, z, t)\n",
        "    y = yz['y']\n",
        "    z = yz['z']\n",
        "    counter += 1\n",
        "    k.append(counter)\n",
        "    fk.append(f(y, z))\n",
        "  x = 1 - 2*y - 3*z\n",
        "  return {'x': x, 'y': y, 'z': z}\n",
        "\n",
        "EPSILON = 1e-6\n",
        "\n",
        "t = 0.5\n",
        "\n",
        "y0 = 1\n",
        "z0 = 1\n",
        "\n",
        "k = []\n",
        "\n",
        "fk = []\n",
        "\n",
        "error = []\n",
        "\n",
        "xyz = GD(y0, z0, EPSILON, t)\n",
        "fs = f(xyz['y'], xyz['z'])\n",
        "\n",
        "print('(x,y,z): (', xyz['x'], ',', xyz['y'], ',', xyz['z'], ')')\n",
        "print('f(x,y,z): ', fs)\n",
        "\n",
        "for fi in fk:\n",
        "  error.append(math.fabs(fi - fs))\n",
        "\n",
        "plt.plot(k, error)\n",
        "plt.yscale('log')\n",
        "plt.show()"
      ],
      "metadata": {
        "colab": {
          "base_uri": "https://localhost:8080/",
          "height": 301
        },
        "id": "Dtt1ljm1BmLZ",
        "outputId": "b78109fd-919a-4788-a230-c246f3cb48ea"
      },
      "execution_count": null,
      "outputs": [
        {
          "output_type": "stream",
          "name": "stdout",
          "text": [
            "(x,y,z): ( -1.0714265080750127 , -0.14285303847043176 , 0.7857108616719587 )\n",
            "f(x,y,z):  0.2672612419738394\n"
          ]
        },
        {
          "output_type": "display_data",
          "data": {
            "text/plain": [
              "<Figure size 432x288 with 1 Axes>"
            ],
            "image/png": "[encoded data removed]"
          },
          "metadata": {
            "needs_background": "light"
          }
        }
      ]
    },
    {
      "cell_type": "markdown",
      "source": [
        "The initial point was (y0 = 1, z0 = 1), (with x0 = -4, implicitly). The solution matches the one found analytically in part (a), and converged in under 50 iterations, as shown above.\n",
        "\n",
        "Newton's method:"
      ],
      "metadata": {
        "id": "VLtLyZuo5ekO"
      }
    },
    {
      "cell_type": "code",
      "source": [
        "import math\n",
        "import numpy as np\n",
        "import matplotlib.pyplot as plt\n",
        "\n",
        "def f(y, z):\n",
        "  return math.sqrt(5 + 5*y**2 - 8*y + 12*y*z - 14*z + 10*z**2)\n",
        "\n",
        "def g(y, z):\n",
        "  return [0.5 * (10*y - 8 + 12*z) / f(y, z), 0.5 * (12*y - 14 + 20*z) / f(y, z)]\n",
        "\n",
        "def H(y, z):\n",
        "  H11 = 10 / (2 * f(y, z)) - (10*y - 8 + 12*z)**2 / (4 * f(y, z)**3) + 10\n",
        "  H12 = 12 / (2 * f(y, z)) - (10*y - 8 + 12*z) * (12*y - 14 + 20*z) / (4 * f(y, z)**3) + 10\n",
        "  H21 = H12\n",
        "  H22 = 20 / (2 * f(y, z)) - (12*y - 14 + 20*z)**2 / (4 * f(y, z)**3) + 10\n",
        "  return [[H11, H12], [H21, H22]]\n",
        "\n",
        "def NM(y, z):\n",
        "  counter = 0\n",
        "  while math.fabs(g(y, z)[0]) > EPSILON and math.fabs(g(y, z)[1]) > EPSILON and counter < 100:\n",
        "    d = - np.matmul(np.linalg.inv(H(y, z)), g(y, z))\n",
        "    y += d[0]\n",
        "    z += d[1]\n",
        "    counter += 1\n",
        "    k.append(counter)\n",
        "    fk.append(f(y, z))\n",
        "  x = 1 - 2*y - 3*z\n",
        "  return [x, y, z]\n",
        "\n",
        "EPSILON = 1e-6\n",
        "\n",
        "y0 = 1\n",
        "z0 = 1\n",
        "\n",
        "k = []\n",
        "\n",
        "fk = []\n",
        "\n",
        "error = []\n",
        "\n",
        "xyz = NM(y0, z0)\n",
        "fs = f(xyz[1], xyz[2])\n",
        "\n",
        "print('(x,y,z): (', xyz[0], ',', xyz[1], ',', xyz[2], ')')\n",
        "print('f(x,y,z): ', fs)\n",
        "\n",
        "for fi in fk:\n",
        "  error.append(math.fabs(fi - fs))\n",
        "\n",
        "plt.plot(k, error)\n",
        "plt.yscale('log')\n",
        "plt.show()"
      ],
      "metadata": {
        "colab": {
          "base_uri": "https://localhost:8080/",
          "height": 300
        },
        "id": "pOpJhvKl5fQv",
        "outputId": "3248ab97-9265-4496-f9c0-cc1770f67b59"
      },
      "execution_count": 1,
      "outputs": [
        {
          "output_type": "stream",
          "name": "stdout",
          "text": [
            "(x,y,z): ( -1.0714286540537867 , -0.14285707675697062 , 0.7857142691892426 )\n",
            "f(x,y,z):  0.2672612419124455\n"
          ]
        },
        {
          "output_type": "display_data",
          "data": {
            "text/plain": [
              "<Figure size 432x288 with 1 Axes>"
            ],
            "image/png": "[encoded data removed]"
          },
          "metadata": {
            "needs_background": "light"
          }
        }
      ]
    },
    {
      "cell_type": "markdown",
      "source": [
        "The initial point was again (x0 = -4, y0 = 1, z0 = 1), and resulted in the same solution. Here the solution converges in fewer than 20 iterations. (Note: The Hessian was modified to give a convergent solution. Running the program without modifying the Hessian resulted in a divergent outcome.)"
      ],
      "metadata": {
        "id": "GvZu_MfT9K37"
      }
    },
    {
      "cell_type": "markdown",
      "source": [
        "**Problem 3**"
      ],
      "metadata": {
        "id": "f_gx4oBSA4n2"
      }
    },
    {
      "cell_type": "markdown",
      "source": [
        "**Problem 4**\n",
        "\n",
        "*(a)* $\\frac{\\partial h}{\\partial p} = \\frac{dh}{dI} \\frac{\\partial I}{\\partial p} = h' a_k$\n",
        "\n",
        "$\\frac{\\partial^2 h}{\\partial p^2} = \\frac{dh'}{dI} \\frac{\\partial I}{\\partial p} a_k^T = h'' a_k a_k^T$\n",
        "\n",
        "Given that $h$ is of the form $\\frac{1}{x}$ for $I \\leq I_t$ and $x$ for $I \\geq I_t$, $h'' \\geq 0$ for all $I$.\n",
        "\n",
        "Furthermore, $a_k a_k^T$ is a positive semi-definite matrix, since $\\forall w \\in \\mathbb{R}^n$, $w \\neq 0$, $w^T a_k a_k^T w = c_k^2$, where $c_k$ is some constant.\n",
        "\n",
        "Therefore, the Hessian of $h$ is p.s.d., and $h(a_k^T p, I_t)$ is convex with respect to $p$.\n",
        "\n",
        "The max of any number of convex functions is also convex, so the objective function is convex.\n",
        "\n",
        "Finally, the constraint is linear, therefore the problem is convex.\n",
        "\n",
        "*(b)* The additional constraint may be represented as follows, where the first ten lamps are considered, assuming $n > 10$:\n",
        "\n",
        "$\\begin{bmatrix} 1 & 1 & 1 & \\cdots & 0 \\end{bmatrix}\n",
        "\\begin{bmatrix} p_1 \\\\ p_2 \\\\ p_3 \\\\ \\vdots \\\\ p_n \\end{bmatrix} < p^*$\n",
        "\n",
        "This is a linear constraint, as is every other possible combination of ten lamps.\n",
        "\n",
        "Furthermore, the solution to the original problem must at the intersection of two functions. The function of the form $\\frac{1}{x}$ is monotonically decreasing, while the function of the form $x$ is monotonically increasing. The problem is minimization, so the solution cannot lie on a single function, since the intersection will always be the lowest point in the space.\n",
        "\n",
        "Therefore, the original problem has a unique solution. The additional constraints do not change the convexity, so the problem still has a unique solution.\n",
        "\n",
        "*(c)* Consider a case where there are two lamps, and only one may be turned on. Then the feasible set isn't convex, since the space of solutions is constrained to the two axes representing each lamp, so that nothing in the space between the axes may be included in the set.\n",
        "\n",
        "This idea may be extended to the case of $n$ lamps with only 10 turned on. Therefore, the constraint isn't convex, and we don't know if there is a unique solution anymore."
      ],
      "metadata": {
        "id": "dI6wU7PqA7mX"
      }
    },
    {
      "cell_type": "markdown",
      "source": [
        "**Problem 5**\n",
        "\n",
        "The function $xy - c(x)$ is linear with respect to $y$, and is therefore convex.\n",
        "\n",
        "The function $c^*(y)$ is the max of the above function with respect to $x$ for any given $y$.\n",
        "\n",
        "The maximum of several (or infinite) convex functions is itself a convex function.\n",
        "\n",
        "Therefore, $c^*(y)$ is convex with respect to $y$."
      ],
      "metadata": {
        "id": "bJLT9rAlA9Ym"
      }
    }
  ]
}